{
 "cells": [
  {
   "cell_type": "code",
   "execution_count": 2,
   "id": "fdb21d43-298f-4191-a2a6-1296d103c022",
   "metadata": {},
   "outputs": [
    {
     "name": "stdout",
     "output_type": "stream",
     "text": [
      "[{'event': '10122012330', 'dl': 1416.4226699682558}, {'event': '10134047875', 'dl': 370.06119764168915}, {'event': '10146003231', 'dl': 521.9276386626802}, {'event': '10158041014', 'dl': 1477.6342578594986}, {'event': '10207022839', 'dl': 578.4112204997452}, {'event': '10248000869', 'dl': 533.1401785646982}, {'event': '10254046659', 'dl': 2403.773389901809}, {'event': '10269013559', 'dl': 3148.6577076589333}, {'event': '10270021561', 'dl': 1803.9087449203205}, {'event': '180718369', 'dl': 3272.2806740865003}, {'event': '222007691', 'dl': 2246.534998614533}, {'event': '222274169', 'dl': 1124.1497987367998}, {'event': '224984190', 'dl': 1985.961477471304}, {'event': '228197639', 'dl': 51.39776259721768}, {'event': '228563573', 'dl': 621.8792004883305}, {'event': '230694744', 'dl': 231.85049061841994}, {'event': '231012915', 'dl': 318.28733873655784}, {'event': '231062848', 'dl': 2703.4185931889983}, {'event': '23311658', 'dl': 210.10218942219498}, {'event': '233225467', 'dl': 782.2536928644043}, {'event': '233235784', 'dl': 2340.2559368581897}, {'event': '233478285', 'dl': 395.21605483583704}, {'event': '234341013', 'dl': 1181.5774286943713}, {'event': '234539244', 'dl': 1323.6192579439141}, {'event': '234654975', 'dl': 312.52911864336875}, {'event': '236177101', 'dl': 882.8267440443817}, {'event': '237040910', 'dl': 1728.663394070693}, {'event': '237403844', 'dl': 147.83098457359446}, {'event': '237491736', 'dl': 916.0919440754842}, {'event': '9150262114', 'dl': 259.939781487946}, {'event': '9152034063', 'dl': 554.3804289474857}, {'event': '9153055713', 'dl': 3327.551046941277}, {'event': '9163097136', 'dl': 1545.7480907314734}, {'event': '9180028411', 'dl': 840.1482309687977}, {'event': '9184112367', 'dl': 1653.2950371908828}, {'event': '9185049172', 'dl': 1246.043490412755}, {'event': '9187032220', 'dl': 370.53022818658127}, {'event': '9189079481', 'dl': 660.4185642454337}, {'event': '9214106181', 'dl': 227.68719770773112}, {'event': '9231046733', 'dl': 4346.975852244868}, {'event': '9248074251', 'dl': 1755.6131806294875}, {'event': '9253108902', 'dl': 279.4317984768391}, {'event': '9262083703', 'dl': 1136.8828743542526}, {'event': '9273029609', 'dl': 530.6622089427501}, {'event': '9291027303', 'dl': 1136.8828743542526}, {'event': '9302097642', 'dl': 1406.498759331127}, {'event': '9306092701', 'dl': 4883.479195204986}, {'event': '9315114545', 'dl': 868.1486796626474}, {'event': '9317000655', 'dl': 768.2613943183704}, {'event': '9318073896', 'dl': 659.5198632338465}]\n"
     ]
    }
   ],
   "source": [
    "import pandas as pd\n",
    "import numpy as np\n",
    "import glob\n",
    "import os\n",
    "import matplotlib.pyplot as plt\n",
    "# Get all CSV files(each of the 50 events) in the Vertices directory\n",
    "csv_files = glob.glob(\"./Vertices/*.csv\")\n",
    "\n",
    "#List to store Flight/Decay Lengths in all 50 events\n",
    "Decay_Lengths = []\n",
    "IP_data = []\n",
    "#Calculate the Flight/Decay Length in each event\n",
    "for file in csv_files:\n",
    "    df = pd.read_csv(file)\n",
    "    filename1 = os.path.splitext(os.path.basename(file))[0]\n",
    "    event_id = filename1.split('_')[0]\n",
    "    # print(event_id)\n",
    "    rows = []\n",
    "    for index, row in df.iterrows():\n",
    "        row = row.to_dict()\n",
    "        rows.append(row)\n",
    "    # print(rows)\n",
    "    dl = (rows[0]['posX'] - rows[1]['posX'])**2 + (rows[0]['posY'] - rows[1]['posY'])**2 + (rows[0]['posZ'] - rows[1]['posZ'])**2\n",
    "    dl = np.sqrt(dl)\n",
    "    # print(dl)\n",
    "    data = {}\n",
    "    data['event'] = event_id\n",
    "    data['dl'] = dl\n",
    "    Decay_Lengths.append(data)\n",
    "    data2 = {}\n",
    "    data2['event'] = event_id\n",
    "    data2['posX'] = rows[0]['posX']\n",
    "    data2['posY'] = rows[0]['posY']\n",
    "    data2['posZ'] = rows[0]['posZ']\n",
    "    IP_data.append(data2)\n",
    "print(Decay_Lengths)"
   ]
  },
  {
   "cell_type": "code",
   "execution_count": 3,
   "id": "faf68903-84a0-409d-bc42-b3a9e2e15508",
   "metadata": {},
   "outputs": [
    {
     "name": "stdout",
     "output_type": "stream",
     "text": [
      "1416.4226699682558\n",
      "370.06119764168915\n",
      "521.9276386626802\n",
      "1477.6342578594986\n",
      "578.4112204997452\n",
      "533.1401785646982\n",
      "2403.773389901809\n",
      "3148.6577076589333\n",
      "1803.9087449203205\n",
      "3272.2806740865003\n",
      "2246.534998614533\n",
      "1124.1497987367998\n",
      "1985.961477471304\n",
      "51.39776259721768\n",
      "621.8792004883305\n",
      "231.85049061841994\n",
      "318.28733873655784\n",
      "2703.4185931889983\n",
      "210.10218942219498\n",
      "782.2536928644043\n",
      "2340.2559368581897\n",
      "395.21605483583704\n",
      "1181.5774286943713\n",
      "1323.6192579439141\n",
      "312.52911864336875\n",
      "882.8267440443817\n",
      "1728.663394070693\n",
      "147.83098457359446\n",
      "916.0919440754842\n",
      "259.939781487946\n",
      "554.3804289474857\n",
      "3327.551046941277\n",
      "1545.7480907314734\n",
      "840.1482309687977\n",
      "1653.2950371908828\n",
      "1246.043490412755\n",
      "370.53022818658127\n",
      "660.4185642454337\n",
      "227.68719770773112\n",
      "4346.975852244868\n",
      "1755.6131806294875\n",
      "279.4317984768391\n",
      "1136.8828743542526\n",
      "530.6622089427501\n",
      "1136.8828743542526\n",
      "1406.498759331127\n",
      "4883.479195204986\n",
      "868.1486796626474\n",
      "768.2613943183704\n",
      "659.5198632338465\n"
     ]
    }
   ],
   "source": [
    "for event in Decay_Lengths:\n",
    "    print(event['dl'])"
   ]
  },
  {
   "cell_type": "code",
   "execution_count": 4,
   "id": "b8920a00-1faf-4881-b286-6691251b1388",
   "metadata": {},
   "outputs": [
    {
     "name": "stdout",
     "output_type": "stream",
     "text": [
      "50\n",
      "[{'event': '10122012330', 'posX': 109522.0, 'posY': 87801.6, 'posZ': 3301.8}, {'event': '10134047875', 'posX': 41572.8, 'posY': 54417.9, 'posZ': 58177.6}, {'event': '10146003231', 'posX': 109886.1, 'posY': 43564.0, 'posZ': 15169.4}, {'event': '10158041014', 'posX': 12139.0, 'posY': 57952.3, 'posZ': 65183.0}, {'event': '10207022839', 'posX': 48404.1, 'posY': 46845.8, 'posZ': 44388.5}, {'event': '10248000869', 'posX': 19231.8, 'posY': 50868.4, 'posZ': 39918.5}, {'event': '10254046659', 'posX': 113642.0, 'posY': 91038.2, 'posZ': 57314.2}, {'event': '10269013559', 'posX': 95183.1, 'posY': 23188.6, 'posZ': 25245.0}, {'event': '10270021561', 'posX': 80159.2, 'posY': 22818.1, 'posZ': 59847.4}, {'event': '180718369', 'posX': 60340.3, 'posY': 67066.9, 'posZ': 22068.0}, {'event': '222007691', 'posX': 65779.9, 'posY': 68351.3, 'posZ': 41219.6}, {'event': '222274169', 'posX': 39973.8, 'posY': 17617.9, 'posZ': 67318.5}, {'event': '224984190', 'posX': 54436.9, 'posY': 66596.8, 'posZ': 32240.2}, {'event': '228197639', 'posX': 59711.0, 'posY': 54774.6, 'posZ': 63981.8}, {'event': '228563573', 'posX': 103983.7, 'posY': 45748.1, 'posZ': 40453.1}, {'event': '230694744', 'posX': 87646.9, 'posY': 48768.1, 'posZ': 44747.2}, {'event': '231012915', 'posX': 103706.2, 'posY': 10271.7, 'posZ': 26372.7}, {'event': '231062848', 'posX': 45057.0, 'posY': 4931.5, 'posZ': 65628.8}, {'event': '23311658', 'posX': 75296.0, 'posY': 20463.2, 'posZ': 35998.5}, {'event': '233225467', 'posX': 28785.2, 'posY': 26651.4, 'posZ': 35260.6}, {'event': '233235784', 'posX': 32194.6, 'posY': 30489.3, 'posZ': 21502.7}, {'event': '233478285', 'posX': 101986.3, 'posY': 46122.0, 'posZ': 58828.7}, {'event': '234341013', 'posX': 12481.2, 'posY': 32800.7, 'posZ': 31147.2}, {'event': '234539244', 'posX': 101368.0, 'posY': 53444.1, 'posZ': 30531.9}, {'event': '234654975', 'posX': 66710.1, 'posY': 49899.0, 'posZ': 48190.9}, {'event': '236177101', 'posX': 18859.3, 'posY': 25805.0, 'posZ': 29585.1}, {'event': '237040910', 'posX': 32869.4, 'posY': 85509.1, 'posZ': 56370.6}, {'event': '237403844', 'posX': 59107.8, 'posY': 92698.0, 'posZ': 36459.8}, {'event': '237491736', 'posX': 87793.5, 'posY': 2523.9, 'posZ': 22346.0}, {'event': '9150262114', 'posX': 35677.9, 'posY': 9939.0, 'posZ': 36764.0}, {'event': '9152034063', 'posX': 16412.8, 'posY': 60392.9, 'posZ': 41863.8}, {'event': '9153055713', 'posX': 65099.4, 'posY': 64015.3, 'posZ': 23381.9}, {'event': '9163097136', 'posX': 105741.0, 'posY': 54760.2, 'posZ': 15224.0}, {'event': '9180028411', 'posX': 45003.6, 'posY': 32472.8, 'posZ': 11924.1}, {'event': '9184112367', 'posX': 93899.6, 'posY': 86006.6, 'posZ': 15333.3}, {'event': '9185049172', 'posX': 36691.2, 'posY': 80123.2, 'posZ': 14658.0}, {'event': '9187032220', 'posX': 23590.9, 'posY': 29837.3, 'posZ': 64100.0}, {'event': '9189079481', 'posX': 104312.0, 'posY': 22385.2, 'posZ': 3150.0}, {'event': '9214106181', 'posX': 46465.8, 'posY': 93083.4, 'posZ': 63442.4}, {'event': '9231046733', 'posX': 79542.3, 'posY': 58782.9, 'posZ': 34991.5}, {'event': '9248074251', 'posX': 59588.5, 'posY': 79088.6, 'posZ': 23713.0}, {'event': '9253108902', 'posX': 106717.8, 'posY': 48600.8, 'posZ': 19249.0}, {'event': '9262083703', 'posX': 105942.1, 'posY': 59223.6, 'posZ': 49697.8}, {'event': '9273029609', 'posX': 57759.6, 'posY': 38319.8, 'posZ': 38518.9}, {'event': '9291027303', 'posX': 105942.1, 'posY': 59223.6, 'posZ': 49697.8}, {'event': '9302097642', 'posX': 22052.3, 'posY': 89479.2, 'posZ': 20952.0}, {'event': '9306092701', 'posX': 27206.1, 'posY': 54762.8, 'posZ': 42397.3}, {'event': '9315114545', 'posX': 97279.8, 'posY': 35829.9, 'posZ': 23595.9}, {'event': '9317000655', 'posX': 64085.2, 'posY': 26655.8, 'posZ': 64866.9}, {'event': '9318073896', 'posX': 101457.0, 'posY': 51588.7, 'posZ': 53885.8}]\n"
     ]
    }
   ],
   "source": [
    "print(len(Decay_Lengths))\n",
    "print(IP_data)"
   ]
  },
  {
   "cell_type": "code",
   "execution_count": 6,
   "id": "41a43a3e-0d50-4085-9822-0c4b286e82f6",
   "metadata": {},
   "outputs": [],
   "source": [
    "def point_to_line_distance(x1, y1, z1, x2, y2, z2, x3, y3, z3):\n",
    "    # Define vectors\n",
    "    P1 = np.array([x1, y1, z1])\n",
    "    P2 = np.array([x2, y2, z2])\n",
    "    P3 = np.array([x3, y3, z3])\n",
    "\n",
    "    # Compute direction vector of the line\n",
    "    D = P2 - P1\n",
    "\n",
    "    # Compute vector from P1 to P3\n",
    "    V = P3 - P1\n",
    "\n",
    "    #cross product\n",
    "    cross_product = np.cross(V, D)\n",
    "\n",
    "    # Computing magnitude\n",
    "    distance = np.linalg.norm(cross_product) / np.linalg.norm(D)\n",
    "\n",
    "    return distance"
   ]
  },
  {
   "cell_type": "code",
   "execution_count": 7,
   "id": "b375a6cb-79eb-4848-aaea-fd83dbc451bf",
   "metadata": {},
   "outputs": [
    {
     "name": "stdout",
     "output_type": "stream",
     "text": [
      "[{'event': '10122012330', 'IP': 51.107111308739405}, {'event': '10134047875', 'IP': 20.296320810829698}, {'event': '10146003231', 'IP': 27.356346810704498}, {'event': '10146003231', 'IP': 24.334003682893982}, {'event': '10158041014', 'IP': 53.916005959738015}, {'event': '10207022839', 'IP': 118.52546185717488}, {'event': '10207022839', 'IP': 95.62585662876052}, {'event': '10248000869', 'IP': 180.53051785227672}, {'event': '10248000869', 'IP': 75.1892934446413}, {'event': '10248000869', 'IP': 267.8279938595125}, {'event': '10248000869', 'IP': 129.84979000136784}, {'event': '10254046659', 'IP': 139.36769021649172}, {'event': '10269013559', 'IP': 70.71530064495656}, {'event': '10269013559', 'IP': 320.09322326910495}, {'event': '10270021561', 'IP': 277.1251526589994}, {'event': '180718369', 'IP': 652.7436575839181}, {'event': '222007691', 'IP': 187.7722856944142}, {'event': '222007691', 'IP': 12.102095613045893}, {'event': '222274169', 'IP': 127.9639626864524}, {'event': '222274169', 'IP': 107.32270102966035}, {'event': '222274169', 'IP': 131.98741999343332}, {'event': '224984190', 'IP': 40.487412958941626}, {'event': '224984190', 'IP': 90.57497310461618}, {'event': '228197639', 'IP': 3.9498635010145104}, {'event': '228197639', 'IP': 9.9308749250654}, {'event': '228563573', 'IP': 9.60489278651711}, {'event': '228563573', 'IP': 116.84710281780285}, {'event': '230694744', 'IP': 17.95716949424244}, {'event': '230694744', 'IP': 6.1704053729370525}, {'event': '230694744', 'IP': 33.07001673053147}, {'event': '231012915', 'IP': 76.39441805953282}, {'event': '231012915', 'IP': 185.85514610224743}, {'event': '231062848', 'IP': 75.78742866258835}, {'event': '23311658', 'IP': 132.94523611453337}, {'event': '233225467', 'IP': 63.75875042390972}, {'event': '233235784', 'IP': 191.24543750838782}, {'event': '233235784', 'IP': 55.438137090104036}, {'event': '233478285', 'IP': 57.43921016260379}, {'event': '233478285', 'IP': 16.666024824792544}, {'event': '234341013', 'IP': 639.9293717877653}, {'event': '234341013', 'IP': 237.74695091003616}, {'event': '234539244', 'IP': 260.00469422087355}, {'event': '234654975', 'IP': 9.358835437844881}, {'event': '234654975', 'IP': 25.253565072122115}, {'event': '234654975', 'IP': 25.64111246639974}, {'event': '234654975', 'IP': 68.29456199081869}, {'event': '236177101', 'IP': 37.076177480079075}, {'event': '237040910', 'IP': 47.79700907101323}, {'event': '237403844', 'IP': 11.350168050111066}, {'event': '237403844', 'IP': 26.425891158674048}, {'event': '237491736', 'IP': 94.333508132313}, {'event': '237491736', 'IP': 48.975178839620874}, {'event': '9150262114', 'IP': 135.05745004912242}, {'event': '9150262114', 'IP': 189.73656195107648}, {'event': '9152034063', 'IP': 48.888896585718825}, {'event': '9153055713', 'IP': 137.16831727476577}, {'event': '9163097136', 'IP': 72.72426541809106}, {'event': '9163097136', 'IP': 80.98344369899476}, {'event': '9180028411', 'IP': 39.35801664317255}, {'event': '9180028411', 'IP': 39.47207402719274}, {'event': '9184112367', 'IP': 865.6855582293726}, {'event': '9184112367', 'IP': 250.96299457895717}, {'event': '9185049172', 'IP': 126.62715383581592}, {'event': '9185049172', 'IP': 17.433981625486016}, {'event': '9187032220', 'IP': 23.436623994437557}, {'event': '9189079481', 'IP': 62.06550186719228}, {'event': '9189079481', 'IP': 57.6391827983287}, {'event': '9214106181', 'IP': 23.50828215423419}, {'event': '9231046733', 'IP': 213.8141852425803}, {'event': '9231046733', 'IP': 133.02747719118435}, {'event': '9231046733', 'IP': 278.3168976998129}, {'event': '9248074251', 'IP': 343.16091938252725}, {'event': '9253108902', 'IP': 47.950233095085956}, {'event': '9253108902', 'IP': 75.46481096209675}, {'event': '9253108902', 'IP': 6.2004760753842225}, {'event': '9262083703', 'IP': 316.85041386801913}, {'event': '9273029609', 'IP': 106.27069283323877}, {'event': '9273029609', 'IP': 106.62212295790322}, {'event': '9273029609', 'IP': 48.17687765189481}, {'event': '9291027303', 'IP': 316.85041386801913}, {'event': '9302097642', 'IP': 326.61323397851044}, {'event': '9302097642', 'IP': 71.81818963976393}, {'event': '9302097642', 'IP': 184.2280715920164}, {'event': '9302097642', 'IP': 356.1932943219628}, {'event': '9306092701', 'IP': 49.11087101931124}, {'event': '9306092701', 'IP': 132.46613418377734}, {'event': '9315114545', 'IP': 26.647707475308735}, {'event': '9317000655', 'IP': 101.64814474281877}, {'event': '9317000655', 'IP': 74.22652881293716}, {'event': '9317000655', 'IP': 209.7452909643271}, {'event': '9318073896', 'IP': 403.8223800566493}]\n"
     ]
    }
   ],
   "source": [
    " files = glob.glob(\"./Tracks/*.csv\")\n",
    "daughter_data = []\n",
    "for file in files:\n",
    "    df = pd.read_csv(file)\n",
    "    filename1 = os.path.splitext(os.path.basename(file))[0]\n",
    "    event_id = filename1.split('_')[0]\n",
    "    for index, row in df.iterrows():\n",
    "        row = row.to_dict()\n",
    "        if(row['trType'] == 10.0):\n",
    "            row['event'] = event_id\n",
    "            daughter_data.append(row)\n",
    "IP = []\n",
    "# print(daughter_data)\n",
    "for event in daughter_data:\n",
    "    for i in IP_data:\n",
    "        if(i['event'] == event['event']):\n",
    "            local = {}\n",
    "            local['event'] = i['event']\n",
    "            distance = point_to_line_distance(event['posX1'],event['posY1'],event['posZ1'],event['posX2'],event['posY2'],event['posZ2'],i['posX'],i['posY'],i['posZ'])\n",
    "            local['IP'] = distance\n",
    "            IP.append(local)\n",
    "print(IP)     "
   ]
  },
  {
   "cell_type": "code",
   "execution_count": 8,
   "id": "6dcd6a3c-4e91-49af-87a3-cb8917738ae7",
   "metadata": {},
   "outputs": [
    {
     "name": "stdout",
     "output_type": "stream",
     "text": [
      "51.107111308739405\n",
      "20.296320810829698\n",
      "27.356346810704498\n",
      "24.334003682893982\n",
      "53.916005959738015\n",
      "118.52546185717488\n",
      "95.62585662876052\n",
      "180.53051785227672\n",
      "75.1892934446413\n",
      "267.8279938595125\n",
      "129.84979000136784\n",
      "139.36769021649172\n",
      "70.71530064495656\n",
      "320.09322326910495\n",
      "277.1251526589994\n",
      "652.7436575839181\n",
      "187.7722856944142\n",
      "12.102095613045893\n",
      "127.9639626864524\n",
      "107.32270102966035\n",
      "131.98741999343332\n",
      "40.487412958941626\n",
      "90.57497310461618\n",
      "3.9498635010145104\n",
      "9.9308749250654\n",
      "9.60489278651711\n",
      "116.84710281780285\n",
      "17.95716949424244\n",
      "6.1704053729370525\n",
      "33.07001673053147\n",
      "76.39441805953282\n",
      "185.85514610224743\n",
      "75.78742866258835\n",
      "132.94523611453337\n",
      "63.75875042390972\n",
      "191.24543750838782\n",
      "55.438137090104036\n",
      "57.43921016260379\n",
      "16.666024824792544\n",
      "639.9293717877653\n",
      "237.74695091003616\n",
      "260.00469422087355\n",
      "9.358835437844881\n",
      "25.253565072122115\n",
      "25.64111246639974\n",
      "68.29456199081869\n",
      "37.076177480079075\n",
      "47.79700907101323\n",
      "11.350168050111066\n",
      "26.425891158674048\n",
      "94.333508132313\n",
      "48.975178839620874\n",
      "135.05745004912242\n",
      "189.73656195107648\n",
      "48.888896585718825\n",
      "137.16831727476577\n",
      "72.72426541809106\n",
      "80.98344369899476\n",
      "39.35801664317255\n",
      "39.47207402719274\n",
      "865.6855582293726\n",
      "250.96299457895717\n",
      "126.62715383581592\n",
      "17.433981625486016\n",
      "23.436623994437557\n",
      "62.06550186719228\n",
      "57.6391827983287\n",
      "23.50828215423419\n",
      "213.8141852425803\n",
      "133.02747719118435\n",
      "278.3168976998129\n",
      "343.16091938252725\n",
      "47.950233095085956\n",
      "75.46481096209675\n",
      "6.2004760753842225\n",
      "316.85041386801913\n",
      "106.27069283323877\n",
      "106.62212295790322\n",
      "48.17687765189481\n",
      "316.85041386801913\n",
      "326.61323397851044\n",
      "71.81818963976393\n",
      "184.2280715920164\n",
      "356.1932943219628\n",
      "49.11087101931124\n",
      "132.46613418377734\n",
      "26.647707475308735\n",
      "101.64814474281877\n",
      "74.22652881293716\n",
      "209.7452909643271\n",
      "403.8223800566493\n"
     ]
    }
   ],
   "source": [
    "for event in IP:\n",
    "    print (event['IP'])"
   ]
  },
  {
   "cell_type": "code",
   "execution_count": 10,
   "id": "9aec9c11-bcb7-4422-b206-c4c526c1f130",
   "metadata": {},
   "outputs": [
    {
     "name": "stdout",
     "output_type": "stream",
     "text": [
      "{'event': '10122012330', 'dl': 1416.4226699682558}\n",
      "{'event': '10122012330', 'IP': 51.107111308739405}\n"
     ]
    }
   ],
   "source": [
    "print(Decay_Lengths[0])\n",
    "print(IP[0])"
   ]
  },
  {
   "cell_type": "code",
   "execution_count": 17,
   "id": "bba4c7a5-7765-4b6f-bbaa-25fdf83da362",
   "metadata": {},
   "outputs": [],
   "source": [
    "#Writing 'dl' and 'IP' to txt files\n",
    "dl_txt = './Decay_Lengths.txt'\n",
    "ip_txt = './Impact_Params.txt'\n",
    "with open(dl_txt, \"w\") as f:\n",
    "    for i in range(len(Decay_Lengths)):\n",
    "        if i < len(Decay_Lengths) - 1:\n",
    "            f.write(str(Decay_Lengths[i]['dl']))\n",
    "            f.write(\"\\n\")\n",
    "        else:\n",
    "            f.write(str(Decay_Lengths[i]['dl']))  # No newline after last entry\n",
    "with open(ip_txt, \"w\") as f:\n",
    "    for i in range(len(IP)):\n",
    "        if i < len(IP) - 1:\n",
    "            f.write(str(IP[i]['IP']))\n",
    "            f.write(\"\\n\")\n",
    "        else:\n",
    "            f.write(str(IP[i]['IP']))  # No newline after last entry"
   ]
  },
  {
   "cell_type": "markdown",
   "id": "8859c366-4627-4100-bc02-0d2efaf5314a",
   "metadata": {},
   "source": [
    "### ROOT HISTOGRAMS WITH THE DATA EXTRACTED ARE AS FOLLOWS:"
   ]
  },
  {
   "attachments": {
    "015b2bb5-5c68-42ae-94de-7dc80b2e2498.png": {
     "image/png": "[encoded data removed]"
    }
   },
   "cell_type": "markdown",
   "id": "ce0b9bb1-de6d-4cdd-8ce7-cdffe90fcabb",
   "metadata": {},
   "source": [
    "![DL_new.png](attachment:015b2bb5-5c68-42ae-94de-7dc80b2e2498.png)"
   ]
  },
  {
   "attachments": {
    "63b09e60-2811-4312-964a-4dd8b27e44df.png": {
     "image/png": "[encoded data removed]"
    }
   },
   "cell_type": "markdown",
   "id": "f08d2a19-92d3-4469-933d-a7bf03b5c834",
   "metadata": {},
   "source": [
    "![IP_new.png](attachment:63b09e60-2811-4312-964a-4dd8b27e44df.png)"
   ]
  },
  {
   "cell_type": "code",
   "execution_count": null,
   "id": "53fe520c-3356-4a9a-8342-d2518e8eb04f",
   "metadata": {},
   "outputs": [],
   "source": []
  }
 ],
 "metadata": {
  "kernelspec": {
   "display_name": "Python 3 (ipykernel)",
   "language": "python",
   "name": "python3"
  },
  "language_info": {
   "codemirror_mode": {
    "name": "ipython",
    "version": 3
   },
   "file_extension": ".py",
   "mimetype": "text/x-python",
   "name": "python",
   "nbconvert_exporter": "python",
   "pygments_lexer": "ipython3",
   "version": "3.12.1"
  }
 },
 "nbformat": 4,
 "nbformat_minor": 5
}
